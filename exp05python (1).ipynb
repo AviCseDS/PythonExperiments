{
 "cells": [
  {
   "cell_type": "markdown",
   "id": "4222d688-9df6-44e3-98b5-9d1046954c7e",
   "metadata": {},
   "source": [
    "### Avi Patle ROll NO: 15 SE3"
   ]
  },
  {
   "cell_type": "code",
   "execution_count": 1,
   "id": "2e2ac0b4-bca7-46a7-91bd-12328377b05e",
   "metadata": {},
   "outputs": [
    {
     "name": "stdin",
     "output_type": "stream",
     "text": [
      "Enter the string:  ()((())())(a+b)(a(A+(b*b(C+C))))\n"
     ]
    },
    {
     "name": "stdout",
     "output_type": "stream",
     "text": [
      "4\n"
     ]
    }
   ],
   "source": [
    "class StackDepth:\n",
    "    def maximumDepth(self, stringInput: str) -> int:\n",
    "        max_depth = 0\n",
    "        current_depth = 0\n",
    "\n",
    "        for char in stringInput:\n",
    "            if char == '(':\n",
    "                current_depth += 1\n",
    "                max_depth = max(max_depth, current_depth)\n",
    "            elif char == ')':\n",
    "                current_depth -= 1\n",
    "\n",
    "        return max_depth\n",
    "\n",
    "stringInput = input(\"Enter the string: \")\n",
    "stack_depth = StackDepth()\n",
    "print(stack_depth.maximumDepth(stringInput))\n"
   ]
  },
  {
   "cell_type": "code",
   "execution_count": null,
   "id": "697f87da-8818-4ee7-82c0-7868835e7e4f",
   "metadata": {},
   "outputs": [],
   "source": []
  }
 ],
 "metadata": {
  "kernelspec": {
   "display_name": "Python 3 (ipykernel)",
   "language": "python",
   "name": "python3"
  },
  "language_info": {
   "codemirror_mode": {
    "name": "ipython",
    "version": 3
   },
   "file_extension": ".py",
   "mimetype": "text/x-python",
   "name": "python",
   "nbconvert_exporter": "python",
   "pygments_lexer": "ipython3",
   "version": "3.12.4"
  }
 },
 "nbformat": 4,
 "nbformat_minor": 5
}
