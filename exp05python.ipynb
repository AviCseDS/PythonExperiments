{
 "cells": [
  {
   "cell_type": "code",
   "execution_count": null,
   "id": "ee1a47b0-d412-4512-9d46-b5559b90605a",
   "metadata": {},
   "outputs": [],
   "source": []
  }
 ],
 "metadata": {
  "kernelspec": {
   "display_name": "",
   "name": ""
  },
  "language_info": {
   "name": ""
  }
 },
 "nbformat": 4,
 "nbformat_minor": 5
}
