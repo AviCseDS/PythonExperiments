{
 "cells": [
  {
   "cell_type": "markdown",
   "id": "a7fa6121-3843-4b0c-99f0-0e73ac5ed312",
   "metadata": {},
   "source": [
    "### Experiment 02 Avi Patle Roll No-15 SE3-S1"
   ]
  },
  {
   "cell_type": "code",
   "execution_count": 11,
   "id": "1464d6f9-783a-4749-8258-571e40c38225",
   "metadata": {},
   "outputs": [
    {
     "name": "stdin",
     "output_type": "stream",
     "text": [
      "Enter your name:  alok\n",
      "Do you work in frontend development? yes/no:  yes\n",
      "Do you work in backend development? yes/no:  no\n"
     ]
    },
    {
     "name": "stdout",
     "output_type": "stream",
     "text": [
      "alok is a Frontend Developer\n"
     ]
    }
   ],
   "source": [
    "class Employee: #we have created a class in which we will define are methods for verification\n",
    "#__init__ this is a constructor{it is a special type of method} i.e that is used to when a new object is created,\n",
    "#its initialze them with its attributes like it sets the defualt values\n",
    "    def __init__( \n",
    "        self, #it is a reference to the current class\n",
    "        #below are the parameters and if we dont set the values these values will be set as thier default values\n",
    "        name: str = 'Unknown',\n",
    "        designation: str = 'Developer',\n",
    "        frontend: bool = False,\n",
    "        backend: bool = False,\n",
    "    ):\n",
    "        self.name = name\n",
    "        self.designation = designation\n",
    "        self.frontend = frontend\n",
    "        self.backend = backend\n",
    "#__repr__ is a method to define string, when you print or inspect an object,\n",
    "#the output should help you understand what the object represents and how to recreate it if necessary.\n",
    "    def __repr__(self):\n",
    "        return f'{self.name} - {self.designation}'\n",
    "#this the main method which is used to define if the employee is a fullstack, frontend, backend developer or not\n",
    "    def verifier(self):\n",
    "        if self.frontend and self.backend:\n",
    "            return \"Fullstack\"\n",
    "        elif self.frontend:\n",
    "            return \"Frontend Developer\"\n",
    "        elif self.backend:\n",
    "            return \"Backend Developer\"\n",
    "        else:\n",
    "            return \"Not a Developer\"\n",
    "#this function \n",
    "def user_input():\n",
    "    # Getting the  user details\n",
    "    name = input(\"Enter your name: \")\n",
    "    \n",
    "    # check if the person is frontend dev\n",
    "    frontend_input = input(\"Do you work in frontend development? yes/no: \").lower()\n",
    "    frontend = True if frontend_input == 'yes' else False\n",
    "    \n",
    "    # check if the person is backend dev\n",
    "    backend_input = input(\"Do you work in backend development? yes/no: \").lower()\n",
    "    backend = True if backend_input == 'yes' else False\n",
    "    \n",
    "    return Employee(name=name, frontend=frontend, backend=backend)\n",
    "\n",
    "if __name__ == '__main__':\n",
    "    employee = user_input()\n",
    "    print(f\"{employee.name} is a {employee.verifier()}\")\n"
   ]
  }
 ],
 "metadata": {
  "kernelspec": {
   "display_name": "Python 3 (ipykernel)",
   "language": "python",
   "name": "python3"
  },
  "language_info": {
   "codemirror_mode": {
    "name": "ipython",
    "version": 3
   },
   "file_extension": ".py",
   "mimetype": "text/x-python",
   "name": "python",
   "nbconvert_exporter": "python",
   "pygments_lexer": "ipython3",
   "version": "3.13.1"
  }
 },
 "nbformat": 4,
 "nbformat_minor": 5
}
