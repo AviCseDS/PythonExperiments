{
 "cells": [
  {
   "cell_type": "markdown",
   "id": "e0e249df-5078-4ae1-8677-2008a5fc493b",
   "metadata": {},
   "source": [
    "### Assignment 02 Avi Patle Roll No:15 SE3"
   ]
  },
  {
   "cell_type": "code",
   "execution_count": null,
   "id": "aa0cfec9-e06a-46d9-92fc-fa23314668ce",
   "metadata": {},
   "outputs": [],
   "source": [
    "import re\n",
    "\n",
    "class LogProcessor:\n",
    "    def extract_critical_errors(self, log_data: str) -> list[tuple]:\n",
    "        pattern = r\"\\[(\\d{4}-\\d{2}-\\d{2} \\d{2}:\\d{2}:\\d{2})\\] \\[ERROR\\] \\[([a-zA-Z0-9_]+)\\] (.*?((?:\\b(?:25[0-5]|2[0-4][0-9]|1?[0-9][0-9]?)\\.(?:25[0-5]|2[0-4][0-9]|1?[0-9][0-9]?)\\.(?:25[0-5]|2[0-4][0-9]|1?[0-9][0-9]?)\\.(?:25[0-5]|2[0-4][0-9]|1?[0-9][0-9]?)\\b).*(0x[A-Fa-f0-9]{8}))).*\"\n",
    "\n",
    "        return [(match[0], match[1], match[2]) for match in re.finditer(pattern, log_data)]\n",
    "\n",
    "log_data = \"\"\"[2025-02-10 14:23:01] [INFO] [Auth_Module] User login successful.\n",
    "[2025-02-10 15:45:32] [ERROR] [Net_Module] Connection timeout from 192.168.1.10. Error Code: 0xAB12CD34\n",
    "[2025-02-10 16:01:10] [WARN] [Disk_Module] Low disk space warning.\n",
    "[2025-02-10 17:12:05] [ERROR] [Security_Module] Unauthorized access detected from 10.0.0.5. Error Code: 0xDEADBEEF\"\"\"\n",
    "\n",
    "processor = LogProcessor()\n",
    "print(processor.extract_critical_errors(log_data))\n"
   ]
  }
 ],
 "metadata": {
  "kernelspec": {
   "display_name": "Python 3 (ipykernel)",
   "language": "python",
   "name": "python3"
  },
  "language_info": {
   "codemirror_mode": {
    "name": "ipython",
    "version": 3
   },
   "file_extension": ".py",
   "mimetype": "text/x-python",
   "name": "python",
   "nbconvert_exporter": "python",
   "pygments_lexer": "ipython3",
   "version": "3.12.4"
  }
 },
 "nbformat": 4,
 "nbformat_minor": 5
}
