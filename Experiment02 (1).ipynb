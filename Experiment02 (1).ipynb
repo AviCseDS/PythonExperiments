{
 "cells": [
  {
   "cell_type": "markdown",
   "id": "a7fa6121-3843-4b0c-99f0-0e73ac5ed312",
   "metadata": {},
   "source": [
    "### Experiment 02 Avi Patle Roll No-15 SE3-S1"
   ]
  },
  {
   "cell_type": "code",
   "execution_count": 14,
   "id": "1464d6f9-783a-4749-8258-571e40c38225",
   "metadata": {},
   "outputs": [
    {
     "name": "stdin",
     "output_type": "stream",
     "text": [
      "Enter your name:  Alok\n",
      "Do you work in frontend development? yes/no:  yes\n",
      "Do you work in backend development? yes/no:  no\n"
     ]
    },
    {
     "name": "stdout",
     "output_type": "stream",
     "text": [
      "Alok is a Frontend Developer\n"
     ]
    },
    {
     "name": "stdin",
     "output_type": "stream",
     "text": [
      "Enter your name:  Avi\n",
      "Do you work in frontend development? yes/no:  yes\n",
      "Do you work in backend development? yes/no:  yes\n"
     ]
    },
    {
     "name": "stdout",
     "output_type": "stream",
     "text": [
      "Avi is a Fullstack Developer\n"
     ]
    },
    {
     "name": "stdin",
     "output_type": "stream",
     "text": [
      "Enter your name:  Piyush\n",
      "Do you work in frontend development? yes/no:  no\n",
      "Do you work in backend development? yes/no:  yes\n"
     ]
    },
    {
     "name": "stdout",
     "output_type": "stream",
     "text": [
      "Piyush is a Backend Developer\n"
     ]
    },
    {
     "name": "stdin",
     "output_type": "stream",
     "text": [
      "Enter your name:  Noob\n",
      "Do you work in frontend development? yes/no:  no\n",
      "Do you work in backend development? yes/no:  no\n"
     ]
    },
    {
     "name": "stdout",
     "output_type": "stream",
     "text": [
      "Noob is a Not a Developer\n"
     ]
    }
   ],
   "source": [
    "class Employee:  # we have created a class in which we will define our methods for verification\n",
    "    #__init__  this is a constructor {it is a special type of method} i.e that is used to when a new object is created,\n",
    "    # its initialize them with its attributes like it sets the default values\n",
    "    def __init__( \n",
    "        self,  # it is a reference to the current class\n",
    "        # below are the parameters and if we don't set the values these values will be set as their default values\n",
    "        name: str = 'Unknown',\n",
    "        designation: str = 'Developer',\n",
    "        frontend: bool = False,\n",
    "        backend: bool = False,\n",
    "    ):\n",
    "        self.name = name\n",
    "        self.designation = designation\n",
    "        self.frontend = frontend\n",
    "        self.backend = backend\n",
    "\n",
    "    # __repr__ is a method to define a string, when you print or inspect an object,\n",
    "    # the output should help you understand what the object represents and how to recreate it if necessary.\n",
    "    def __repr__(self):\n",
    "        return f'{self.name} - {self.designation}'\n",
    "\n",
    "    # this is the main method which is used to define if the employee is a fullstack, frontend, backend developer or not\n",
    "    def verifier(self):\n",
    "        if self.frontend and self.backend:\n",
    "            return \"Fullstack Developer\"\n",
    "        elif self.frontend:\n",
    "            return \"Frontend Developer\"\n",
    "        elif self.backend:\n",
    "            return \"Backend Developer\"\n",
    "        else:\n",
    "            return \"Not a Developer\"\n",
    "\n",
    "# this function is used take input from the user\n",
    "\n",
    "def user_input():\n",
    "    # Getting the user details\n",
    "    name = input(\"Enter your name: \")\n",
    "    \n",
    "    # check if the person is frontend dev\n",
    "    frontend_input = input(\"Do you work in frontend development? yes/no: \").lower()\n",
    "    frontend = True if frontend_input == 'yes' else False\n",
    "    \n",
    "    # check if the person is backend dev\n",
    "    backend_input = input(\"Do you work in backend development? yes/no: \").lower()\n",
    "    backend = True if backend_input == 'yes' else False\n",
    "    \n",
    "    return Employee(name=name, frontend=frontend, backend=backend)\n",
    "\n",
    "if __name__ == '__main__':\n",
    "    employee1 = user_input()\n",
    "    print(f\"{employee1.name} is a {employee1.verifier()}\")\n",
    "    \n",
    "    employee2 = user_input()\n",
    "    print(f\"{employee2.name} is a {employee2.verifier()}\")\n",
    "    \n",
    "    employee3 = user_input()\n",
    "    print(f\"{employee3.name} is a {employee3.verifier()}\")\n",
    "    \n",
    "    employee4 = user_input()\n",
    "    print(f\"{employee4.name} is a {employee4.verifier()}\")\n"
   ]
  },
  {
   "cell_type": "code",
   "execution_count": null,
   "id": "918ffda6-b26d-4d77-a8ab-82dc87b31b1c",
   "metadata": {},
   "outputs": [],
   "source": []
  }
 ],
 "metadata": {
  "kernelspec": {
   "display_name": "Python 3 (ipykernel)",
   "language": "python",
   "name": "python3"
  },
  "language_info": {
   "codemirror_mode": {
    "name": "ipython",
    "version": 3
   },
   "file_extension": ".py",
   "mimetype": "text/x-python",
   "name": "python",
   "nbconvert_exporter": "python",
   "pygments_lexer": "ipython3",
   "version": "3.13.1"
  }
 },
 "nbformat": 4,
 "nbformat_minor": 5
}
