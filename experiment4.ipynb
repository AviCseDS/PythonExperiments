{
 "cells": [
  {
   "cell_type": "markdown",
   "id": "c2f4299f-2b61-42af-9e83-af6ab083a9e0",
   "metadata": {},
   "source": [
    "### Avi Patle Roll No:15 SE_3 S1 Read,Write,Append to a text file"
   ]
  },
  {
   "cell_type": "code",
   "execution_count": 4,
   "id": "91c582b6-6518-44e9-9d5e-53a20cbf105a",
   "metadata": {},
   "outputs": [
    {
     "name": "stdout",
     "output_type": "stream",
     "text": [
      "File is created Succesfully with content\n",
      "File content after initial write:\n",
      " This is the first line.\n",
      " This is the Next Line\n",
      "\n",
      "Content is appended to the file.\n",
      "File content after append:\n",
      " This is the first line.\n",
      " This is the Next Line\n",
      " This is an appended line.\n",
      "\n"
     ]
    }
   ],
   "source": [
    "from contextlib import contextmanager\n",
    "\n",
    "@contextmanager\n",
    "def genericFileFunction(filename, method):\n",
    "    file = open(filename, method)\n",
    "    yield file\n",
    "    file.close()\n",
    "\n",
    "if __name__ == '__main__':\n",
    "    with genericFileFunction('Newfile.txt', 'w') as file:\n",
    "        file.write(\"This is the first line.\\n This is the Next Line\\n\")\n",
    "        print(\"File is created Succesfully with content\")\n",
    "\n",
    "    with genericFileFunction('Newfile.txt', 'r') as file:\n",
    "        content = file.read()\n",
    "        print(\"File content after initial write:\\n\", content)\n",
    "\n",
    "    with genericFileFunction('Newfile.txt', 'a') as file:\n",
    "        file.write(\" This is an appended line.\\n\")\n",
    "        print(\"Content is appended to the file.\")\n",
    "\n",
    "    with genericFileFunction('Newfile.txt', 'r') as file:\n",
    "        content = file.read()\n",
    "        print(\"File content after append:\\n\", content)\n"
   ]
  },
  {
   "cell_type": "code",
   "execution_count": null,
   "id": "bd0688f1-55e1-44db-9918-c6d7eaa3711b",
   "metadata": {},
   "outputs": [],
   "source": []
  },
  {
   "cell_type": "code",
   "execution_count": null,
   "id": "cb3f1a63-3c37-4a82-be33-6d305fafd7d4",
   "metadata": {},
   "outputs": [],
   "source": []
  },
  {
   "cell_type": "code",
   "execution_count": null,
   "id": "71f19bb9-93af-4b4f-9410-8698cefa7381",
   "metadata": {},
   "outputs": [],
   "source": []
  }
 ],
 "metadata": {
  "kernelspec": {
   "display_name": "Python 3 (ipykernel)",
   "language": "python",
   "name": "python3"
  },
  "language_info": {
   "codemirror_mode": {
    "name": "ipython",
    "version": 3
   },
   "file_extension": ".py",
   "mimetype": "text/x-python",
   "name": "python",
   "nbconvert_exporter": "python",
   "pygments_lexer": "ipython3",
   "version": "3.13.1"
  }
 },
 "nbformat": 4,
 "nbformat_minor": 5
}
