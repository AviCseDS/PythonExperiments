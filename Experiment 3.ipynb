{
 "cells": [
  {
   "cell_type": "markdown",
   "id": "5beb2f39-801f-468b-b2b5-9eaa5c931f46",
   "metadata": {},
   "source": [
    "### Avi Patle Roll No 15 SE3_S1 Experiment No: 3"
   ]
  },
  {
   "cell_type": "code",
   "execution_count": 17,
   "id": "919338c3-dc6e-450a-a9ea-0039ef9fce47",
   "metadata": {},
   "outputs": [
    {
     "name": "stdin",
     "output_type": "stream",
     "text": [
      "Enter a pattern of a and b:  aaaa\n"
     ]
    },
    {
     "name": "stdout",
     "output_type": "stream",
     "text": [
      "Input: aaaa\n",
      "Output: True\n"
     ]
    }
   ],
   "source": [
    "#here we will compare the last index of a with the first index of b so that we will come to know if all a are before all b\n",
    "\n",
    "#this function will get the first index of b by checking its first occurence in the string using find()\n",
    "def find_first_occurrence(main_string, substring1):\n",
    "    first_occurrence = main_string.find(substring1)\n",
    "    return first_occurrence\n",
    "#this function will get the last index of a by checking its last occurence in the string using rfind()\n",
    "def find_last_occurrence(main_string, substring2):\n",
    "    last_occurrence = main_string.rfind(substring2)\n",
    "    return last_occurrence\n",
    "\n",
    "class conditionalStatements:\n",
    "    #this will check the conditions required\n",
    "    def checkString(self, s: str, substring1: str, substring2: str) -> bool:\n",
    "        # Get first and last occurrences using the previously defined functions by calling them\n",
    "        first_occurrence = find_first_occurrence(s, substring1)\n",
    "        last_occurrence = find_last_occurrence(s, substring2)\n",
    "        \n",
    "        # Checking if the first occurrence is greater than last occurrence or if any substring is not found\n",
    "        if first_occurrence == -1 or last_occurrence == -1:\n",
    "            return True \n",
    "        \n",
    "        if first_occurrence > last_occurrence:\n",
    "            return True\n",
    "        else:\n",
    "            return False\n",
    "\n",
    "main_string = input(\"Enter a pattern of a and b: \")\n",
    "substring1 = \"b\"\n",
    "substring2 = \"a\"\n",
    "\n",
    "# Create an instance of the class\n",
    "checker = conditionalStatements()\n",
    "\n",
    "# Calling the checkString method\n",
    "result = checker.checkString(main_string, substring1, substring2)\n",
    "print(f\"Input: s=\",main_string)\n",
    "print(f\"Output:\",result)\n"
   ]
  },
  {
   "cell_type": "code",
   "execution_count": null,
   "id": "5ce28b88-a121-4b42-b425-91c6efb2339f",
   "metadata": {},
   "outputs": [],
   "source": []
  }
 ],
 "metadata": {
  "kernelspec": {
   "display_name": "Python 3 (ipykernel)",
   "language": "python",
   "name": "python3"
  },
  "language_info": {
   "codemirror_mode": {
    "name": "ipython",
    "version": 3
   },
   "file_extension": ".py",
   "mimetype": "text/x-python",
   "name": "python",
   "nbconvert_exporter": "python",
   "pygments_lexer": "ipython3",
   "version": "3.12.5"
  }
 },
 "nbformat": 4,
 "nbformat_minor": 5
}
